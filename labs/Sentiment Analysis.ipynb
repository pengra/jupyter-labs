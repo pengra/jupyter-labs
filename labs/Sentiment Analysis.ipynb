{
 "cells": [
  {
   "cell_type": "markdown",
   "metadata": {},
   "source": [
    "# Sentinment Analysis via Trigrams\n",
    "// Written on **June 13, 2017**<br/>\n",
    "// Status: **Archived**\n",
    "\n",
    "Goal: Use raw trigrams to analyze sentiment."
   ]
  },
  {
   "cell_type": "code",
   "execution_count": 3,
   "metadata": {},
   "outputs": [
    {
     "name": "stdout",
     "output_type": "stream",
     "text": [
      "[nltk_data] Downloading package subjectivity to\n",
      "[nltk_data]     /home/qwergram/nltk_data...\n",
      "[nltk_data]   Unzipping corpora/subjectivity.zip.\n"
     ]
    },
    {
     "data": {
      "text/plain": [
       "True"
      ]
     },
     "execution_count": 3,
     "metadata": {},
     "output_type": "execute_result"
    }
   ],
   "source": [
    "import nltk\n",
    "nltk.download('subjectivity')"
   ]
  },
  {
   "cell_type": "code",
   "execution_count": 4,
   "metadata": {},
   "outputs": [],
   "source": [
    "# Steal data from nltk libraries\n",
    "from nltk.sentiment.util import *\n",
    "from nltk.corpus import subjectivity\n",
    "\n",
    "n_instances = 10000\n",
    "n_train_instances = int(.8 * n_instances)\n",
    "subj_docs = [sent for sent in subjectivity.sents(categories='subj')[:n_instances]]\n",
    "obj_docs = [sent for sent in subjectivity.sents(categories='obj')[:n_instances]]\n",
    "\n",
    "subj_tests = subj_docs[:n_train_instances]\n",
    "obj_tests = obj_docs[:n_train_instances]\n",
    "\n",
    "subj_train = subj_docs[n_train_instances:]\n",
    "obj_train = obj_docs[n_train_instances:]"
   ]
  },
  {
   "cell_type": "code",
   "execution_count": 5,
   "metadata": {},
   "outputs": [],
   "source": [
    "# Adjustable NGram Structure\n",
    "class Ngram(object):\n",
    "    \n",
    "    def __init__(self, size, clean=True):\n",
    "        self.size = size\n",
    "        self.clean = clean\n",
    "        self.ngrams = {}\n",
    "        \n",
    "    def addIntent(self, intent):\n",
    "        self.ngrams[intent] = {}\n",
    "        \n",
    "    def removeIntent(self, intent):\n",
    "        del self.ngrams[intent]\n",
    "        \n",
    "    def cleanText(self, text):\n",
    "        newtext = []\n",
    "        for char in text:\n",
    "            if char.isalnum() or char == ' ':\n",
    "                newtext.append(char.lower())\n",
    "                \n",
    "        text = \"\".join(newtext)\n",
    "        \n",
    "        ignoreWords = []\n",
    "        \n",
    "#         ignoreWords = [\n",
    "#             \"is\", \"the\", \"a\", \"i\", \"via\", \"did\", \"like\",\n",
    "#             \"to\", \"in\", \"and\", \"that\", \"till\", \"im\", \"am\"\n",
    "#         ]\n",
    "        for word in ignoreWords:\n",
    "            text = text.replace(word + \" \", \"\")\n",
    "        \n",
    "        return text\n",
    "        \n",
    "        \n",
    "    def train(self, intent, seeds):\n",
    "        if self.clean:\n",
    "            seeds = self.cleanText(seeds)\n",
    "        \n",
    "        if len(seeds.split()) < (self.size + 1):\n",
    "            raise Exception(\"sample size too small\")\n",
    "\n",
    "        seeds = seeds.split()\n",
    "\n",
    "        for i, _ in enumerate(seeds):\n",
    "            try:\n",
    "                result = seeds[i+self.size]\n",
    "                key = tuple(seeds[i:i+self.size])\n",
    "                if not \"\".join(key).isalnum():\n",
    "                    continue\n",
    "                self.ngrams[intent].setdefault(key, [])\n",
    "                if not result in self.ngrams[intent][key]:\n",
    "                    self.ngrams[intent][key].append(result)\n",
    "            except IndexError:\n",
    "                break\n",
    "        \n",
    "    def think(self, seeds):\n",
    "        if self.clean:\n",
    "            seeds = self.cleanText(seeds)\n",
    "        \n",
    "        if len(seeds.split()) < (self.size + 1):\n",
    "            raise Exception(\"sample size too small\")\n",
    "        \n",
    "        seeds = seeds.split()\n",
    "\n",
    "        results = {}\n",
    "        \n",
    "        for intent, ngrams in self.ngrams.items():\n",
    "            total_keys = matching_keys = 0\n",
    "            \n",
    "            for i, _ in enumerate(seeds):\n",
    "                try:\n",
    "                    result = seeds[i+self.size]\n",
    "                    key = tuple(seeds[i:i+self.size])\n",
    "                    if not \"\".join(key).isalnum():\n",
    "                        continue\n",
    "                    value_added = 0\n",
    "                    if key in ngrams:\n",
    "                        value_added = .35 * (1 / len(ngrams[key]))\n",
    "                        matching_keys += value_added\n",
    "                        if result in ngrams[key]:\n",
    "                            matching_keys += 1 - value_added\n",
    "                    total_keys += 1\n",
    "                except IndexError:\n",
    "                    break\n",
    "            \n",
    "            results[intent] = matching_keys / total_keys\n",
    "                    \n",
    "        return results"
   ]
  },
  {
   "cell_type": "code",
   "execution_count": 6,
   "metadata": {},
   "outputs": [],
   "source": [
    "# Train data\n",
    "trigram = Ngram(2)\n",
    "trigram.addIntent(\"obj\")\n",
    "trigram.addIntent(\"subj\")\n",
    "for subj_doc in subj_tests:\n",
    "    trigram.train(\"subj\", \" \".join(subj_doc))\n",
    "for obj_doc in obj_tests:\n",
    "    trigram.train(\"obj\", \" \".join(obj_doc))"
   ]
  },
  {
   "cell_type": "code",
   "execution_count": 7,
   "metadata": {},
   "outputs": [
    {
     "name": "stdout",
     "output_type": "stream",
     "text": [
      "1.0\n"
     ]
    }
   ],
   "source": [
    "# Test data\n",
    "score = 0\n",
    "total = len(obj_tests) + len(subj_tests)\n",
    "for obj_doc in obj_tests:\n",
    "    result = trigram.think(\" \".join(obj_doc))\n",
    "    if result['obj'] > result['subj']:\n",
    "        score += 1\n",
    "\n",
    "for subj_doc in subj_tests:\n",
    "    result = trigram.think(\" \".join(subj_doc))\n",
    "    if result['obj'] < result['subj']:\n",
    "        score += 1\n",
    "print(score / total)"
   ]
  },
  {
   "cell_type": "markdown",
   "metadata": {},
   "source": [
    "# Examples"
   ]
  },
  {
   "cell_type": "code",
   "execution_count": 8,
   "metadata": {},
   "outputs": [
    {
     "data": {
      "text/plain": [
       "{'obj': 0.0720982905982906, 'subj': 0.018121301775147928}"
      ]
     },
     "execution_count": 8,
     "metadata": {},
     "output_type": "execute_result"
    }
   ],
   "source": [
    "trigram.think(\"President Trump’s budget would not add to economic growth or eliminate the deficit in coming years, the nonpartisan Congressional Budget Office said Thursday, casting doubt on a plan the White House has touted as central to achieving the president’s domestic agenda.\")"
   ]
  },
  {
   "cell_type": "code",
   "execution_count": 9,
   "metadata": {},
   "outputs": [
    {
     "data": {
      "text/plain": [
       "{'obj': 0.13085393540121318, 'subj': 0.1194731846729153}"
      ]
     },
     "execution_count": 9,
     "metadata": {},
     "output_type": "execute_result"
    }
   ],
   "source": [
    "trigram.think(\"Difficult to understand how a person who is a sexual predator, pathological liar and totally without morals is supported by the political party that claims to be the Party of Family Values and Jesus. Course it's easy to understand why ignorant fundamentalists, like the Preacher who one ran for the Presidency, supports Trump. It's a case of \\\"Birds of a Feather....\\\". And as Your soul-probing caricature shows...the Son (actually Both Sons) are worthless rotten apples.\")"
   ]
  },
  {
   "cell_type": "code",
   "execution_count": 10,
   "metadata": {},
   "outputs": [
    {
     "data": {
      "text/plain": [
       "{'obj': 0.0, 'subj': 0.014583333333333332}"
      ]
     },
     "execution_count": 10,
     "metadata": {},
     "output_type": "execute_result"
    }
   ],
   "source": [
    "trigram.think(\"Outstanding in every respect. True art.\")"
   ]
  },
  {
   "cell_type": "markdown",
   "metadata": {},
   "source": [
    "# Conclusion\n",
    "Seems like there's some hope, but raw trigrams are probably never going to be enough for sentiment analysis."
   ]
  }
 ],
 "metadata": {
  "kernelspec": {
   "display_name": "Python 3",
   "language": "python",
   "name": "python3"
  },
  "language_info": {
   "codemirror_mode": {
    "name": "ipython",
    "version": 3
   },
   "file_extension": ".py",
   "mimetype": "text/x-python",
   "name": "python",
   "nbconvert_exporter": "python",
   "pygments_lexer": "ipython3",
   "version": "3.6.5"
  }
 },
 "nbformat": 4,
 "nbformat_minor": 2
}

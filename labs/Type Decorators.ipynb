{
 "cells": [
  {
   "cell_type": "markdown",
   "metadata": {},
   "source": [
    "# Making Python More Strongly-Typed With Decorators\n",
    "// Written on **September 20th, 2018**<br/>\n",
    "// Status: **Archived**\n",
    "\n",
    "An interesting feature of python, is the the duck typing philosophy. This allows engineers to \"plug eletric cables into the water pipes without problems.\" Those who come from a more formal language might find this feature absolutely disgusting and avoid it because of this. However, there's a way to make Python more \"strongly typed\" using Python decorators.\n",
    "\n",
    "Here's the rundown of the code:"
   ]
  },
  {
   "cell_type": "code",
   "execution_count": 2,
   "metadata": {},
   "outputs": [],
   "source": [
    "class ParamTypeAssertion(object):\n",
    "    \n",
    "    # The parameters of the decorator go into here\n",
    "    def __init__(self, *args, **kwargs):\n",
    "        self.args = args\n",
    "        self.kwargs = kwargs\n",
    "    \n",
    "    # the function \"object\" is plugged into here\n",
    "    def __call__(self, function):\n",
    "        \n",
    "        # Wrap the function with a wrapper\n",
    "        def wrapper(*args, **kwargs):\n",
    "            # check if input is same length as \n",
    "            if len(args) != len(self.args):\n",
    "                raise ValueError(\"Invalid TypeHeader\")\n",
    "            \n",
    "            # check if all args are acceptable types\n",
    "            for i, x in enumerate(args):\n",
    "                if type(self.args[i]) == list and (type(args[i]) not in self.args[i]):\n",
    "                    raise TypeError(\"Invalid Type: Recieved:\", args[i], \"Expecting types:\", self.args[i])\n",
    "                elif type(self.args[i]) != list and (type(args[i]) != self.args[i]):\n",
    "                    raise TypeError(\"Invalid Type: Recieved:\", args[i], \"Expecting type:\", self.args[i])\n",
    "                    \n",
    "            # check if all kwargs are acceptable types\n",
    "            for i, x in kwargs.items():\n",
    "                if type(self.kwargs[i]) == list and (type(kwargs[i]) not in self.kwargs[i]):\n",
    "                    raise TypeError(\"Invalid Type: Recieved:\", kwargs[i], \"Expecting types:\", self.kwargs[i])\n",
    "                elif type(self.kwargs[i]) != list and (type(kwargs[i]) != self.kwargs[i]):\n",
    "                    raise TypeError(\"Invalid Type: Recieved:\", kwargs[i], \"Expecting type:\", self.kwargs[i])\n",
    "            \n",
    "            # if all checks out, return the function\n",
    "            return function(*args, **kwargs)\n",
    "        \n",
    "        # return the wrapper\n",
    "        return wrapper\n",
    "\n",
    "\n",
    "class ReturnTypeAssertion():\n",
    "    \n",
    "    # The parameters of the decorator go into here\n",
    "    def __init__(self, returnType):\n",
    "        self.returnTypes = returnType\n",
    "    \n",
    "    # the function \"object\" goes in here\n",
    "    def __call__(self, function):\n",
    "        \n",
    "        # the wrapper function\n",
    "        def wrapper(*args, **kwargs):\n",
    "            \n",
    "            # get the function return value\n",
    "            value = function(*args, **kwargs)\n",
    "            \n",
    "            # check the type of the value\n",
    "            if type(value) == self.returnTypes or type(self.args) == list and type(value) in self.returnTypes:\n",
    "                return value\n",
    "            \n",
    "            # otherwise, raise ValueError\n",
    "            raise ValueError(\"Invalid Return type\")\n",
    "        \n",
    "        # return the wrapper\n",
    "        return wrapper"
   ]
  },
  {
   "cell_type": "code",
   "execution_count": 4,
   "metadata": {},
   "outputs": [
    {
     "ename": "TypeError",
     "evalue": "('Invalid Type: Recieved:', 1, 'Expecting type:', <class 'list'>)",
     "output_type": "error",
     "traceback": [
      "\u001b[0;31m---------------------------------------------------------------------------\u001b[0m",
      "\u001b[0;31mTypeError\u001b[0m                                 Traceback (most recent call last)",
      "\u001b[0;32m<ipython-input-4-4a772f326a86>\u001b[0m in \u001b[0;36m<module>\u001b[0;34m()\u001b[0m\n\u001b[1;32m      6\u001b[0m         \u001b[0;32mreturn\u001b[0m \u001b[0;34m\"test\"\u001b[0m\u001b[0;34m\u001b[0m\u001b[0m\n\u001b[1;32m      7\u001b[0m \u001b[0;34m\u001b[0m\u001b[0m\n\u001b[0;32m----> 8\u001b[0;31m     \u001b[0mtest\u001b[0m\u001b[0;34m(\u001b[0m\u001b[0;36m1\u001b[0m\u001b[0;34m,\u001b[0m\u001b[0;36m2\u001b[0m\u001b[0;34m,\u001b[0m\u001b[0;36m3\u001b[0m\u001b[0;34m)\u001b[0m\u001b[0;34m\u001b[0m\u001b[0m\n\u001b[0m",
      "\u001b[0;32m<ipython-input-2-c6b0c5120419>\u001b[0m in \u001b[0;36mwrapper\u001b[0;34m(*args, **kwargs)\u001b[0m\n\u001b[1;32m     49\u001b[0m \u001b[0;34m\u001b[0m\u001b[0m\n\u001b[1;32m     50\u001b[0m             \u001b[0;31m# get the function return value\u001b[0m\u001b[0;34m\u001b[0m\u001b[0;34m\u001b[0m\u001b[0m\n\u001b[0;32m---> 51\u001b[0;31m             \u001b[0mvalue\u001b[0m \u001b[0;34m=\u001b[0m \u001b[0mfunction\u001b[0m\u001b[0;34m(\u001b[0m\u001b[0;34m*\u001b[0m\u001b[0margs\u001b[0m\u001b[0;34m,\u001b[0m \u001b[0;34m**\u001b[0m\u001b[0mkwargs\u001b[0m\u001b[0;34m)\u001b[0m\u001b[0;34m\u001b[0m\u001b[0m\n\u001b[0m\u001b[1;32m     52\u001b[0m \u001b[0;34m\u001b[0m\u001b[0m\n\u001b[1;32m     53\u001b[0m             \u001b[0;31m# check the type of the value\u001b[0m\u001b[0;34m\u001b[0m\u001b[0;34m\u001b[0m\u001b[0m\n",
      "\u001b[0;32m<ipython-input-2-c6b0c5120419>\u001b[0m in \u001b[0;36mwrapper\u001b[0;34m(*args, **kwargs)\u001b[0m\n\u001b[1;32m     20\u001b[0m                     \u001b[0;32mraise\u001b[0m \u001b[0mTypeError\u001b[0m\u001b[0;34m(\u001b[0m\u001b[0;34m\"Invalid Type: Recieved:\"\u001b[0m\u001b[0;34m,\u001b[0m \u001b[0margs\u001b[0m\u001b[0;34m[\u001b[0m\u001b[0mi\u001b[0m\u001b[0;34m]\u001b[0m\u001b[0;34m,\u001b[0m \u001b[0;34m\"Expecting types:\"\u001b[0m\u001b[0;34m,\u001b[0m \u001b[0mself\u001b[0m\u001b[0;34m.\u001b[0m\u001b[0margs\u001b[0m\u001b[0;34m[\u001b[0m\u001b[0mi\u001b[0m\u001b[0;34m]\u001b[0m\u001b[0;34m)\u001b[0m\u001b[0;34m\u001b[0m\u001b[0m\n\u001b[1;32m     21\u001b[0m                 \u001b[0;32melif\u001b[0m \u001b[0mtype\u001b[0m\u001b[0;34m(\u001b[0m\u001b[0mself\u001b[0m\u001b[0;34m.\u001b[0m\u001b[0margs\u001b[0m\u001b[0;34m[\u001b[0m\u001b[0mi\u001b[0m\u001b[0;34m]\u001b[0m\u001b[0;34m)\u001b[0m \u001b[0;34m!=\u001b[0m \u001b[0mlist\u001b[0m \u001b[0;32mand\u001b[0m \u001b[0;34m(\u001b[0m\u001b[0mtype\u001b[0m\u001b[0;34m(\u001b[0m\u001b[0margs\u001b[0m\u001b[0;34m[\u001b[0m\u001b[0mi\u001b[0m\u001b[0;34m]\u001b[0m\u001b[0;34m)\u001b[0m \u001b[0;34m!=\u001b[0m \u001b[0mself\u001b[0m\u001b[0;34m.\u001b[0m\u001b[0margs\u001b[0m\u001b[0;34m[\u001b[0m\u001b[0mi\u001b[0m\u001b[0;34m]\u001b[0m\u001b[0;34m)\u001b[0m\u001b[0;34m:\u001b[0m\u001b[0;34m\u001b[0m\u001b[0m\n\u001b[0;32m---> 22\u001b[0;31m                     \u001b[0;32mraise\u001b[0m \u001b[0mTypeError\u001b[0m\u001b[0;34m(\u001b[0m\u001b[0;34m\"Invalid Type: Recieved:\"\u001b[0m\u001b[0;34m,\u001b[0m \u001b[0margs\u001b[0m\u001b[0;34m[\u001b[0m\u001b[0mi\u001b[0m\u001b[0;34m]\u001b[0m\u001b[0;34m,\u001b[0m \u001b[0;34m\"Expecting type:\"\u001b[0m\u001b[0;34m,\u001b[0m \u001b[0mself\u001b[0m\u001b[0;34m.\u001b[0m\u001b[0margs\u001b[0m\u001b[0;34m[\u001b[0m\u001b[0mi\u001b[0m\u001b[0;34m]\u001b[0m\u001b[0;34m)\u001b[0m\u001b[0;34m\u001b[0m\u001b[0m\n\u001b[0m\u001b[1;32m     23\u001b[0m \u001b[0;34m\u001b[0m\u001b[0m\n\u001b[1;32m     24\u001b[0m             \u001b[0;31m# check if all kwargs are acceptable types\u001b[0m\u001b[0;34m\u001b[0m\u001b[0;34m\u001b[0m\u001b[0m\n",
      "\u001b[0;31mTypeError\u001b[0m: ('Invalid Type: Recieved:', 1, 'Expecting type:', <class 'list'>)"
     ]
    }
   ],
   "source": [
    "if __name__ == \"__main__\":        \n",
    "    @ReturnTypeAssertion([str, float])\n",
    "    @ParamTypeAssertion(list, [str, float], [object, float, bool])\n",
    "    def test(x, y, z):\n",
    "        print(x, y, z)\n",
    "        return \"test\"\n",
    "    \n",
    "    test(1,2,3)"
   ]
  }
 ],
 "metadata": {
  "kernelspec": {
   "display_name": "Python 3",
   "language": "python",
   "name": "python3"
  },
  "language_info": {
   "codemirror_mode": {
    "name": "ipython",
    "version": 3
   },
   "file_extension": ".py",
   "mimetype": "text/x-python",
   "name": "python",
   "nbconvert_exporter": "python",
   "pygments_lexer": "ipython3",
   "version": "3.6.5"
  }
 },
 "nbformat": 4,
 "nbformat_minor": 2
}
